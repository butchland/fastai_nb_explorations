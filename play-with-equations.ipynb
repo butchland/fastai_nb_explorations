{
 "cells": [
  {
   "cell_type": "markdown",
   "metadata": {},
   "source": [
    "#### Affine function\n",
    "\n",
    "$ z(x) = \\sum \\limits _{i} ^{n} w_{i}x_{i} + b = w \\cdot x + b $"
   ]
  },
  {
   "cell_type": "markdown",
   "metadata": {},
   "source": [
    "#### Common loss function\n",
    "\n",
    "$ \\frac {1}{N} \\sum \\limits _{x} (target(x) - activation(x))^{2} = $\n",
    "$ \\frac {1}{N} \\sum \\limits _{x} (target(x) - max(0, \\sum \\limits _{i}^{\\vert x \\vert} w_{i}x_{i} + b))^2 $"
   ]
  },
  {
   "cell_type": "markdown",
   "metadata": {},
   "source": [
    "#### Table of Derivatives\n",
    "\n",
    "![basic derivative chain rules](images/basic-derivative-chain-rules.png)\n"
   ]
  },
  {
   "cell_type": "markdown",
   "metadata": {},
   "source": [
    "#### Partial Derivative Example\n",
    "\n",
    "Consider the function $ f(x,y) = 3x^{2}y $\n",
    "\n",
    "The derivative of _f_ wrt to _x_ is:\n",
    "\n",
    "$\\frac{\\partial f}{\\partial x} = $\n",
    "$\\frac{\\partial} {\\partial x} 3x^{2}y  = $\n",
    "$3y\\frac{\\partial}{\\partial x}x^{2} = $\n",
    "$ 6yx $\n",
    "\n",
    "The derivative of _f_ wrt to _y_ is:\n",
    "\n",
    "$\\frac{\\partial f}{\\partial y} = $\n",
    "$\\frac{\\partial} {\\partial y} 3x^{2}y = $\n",
    "$3x^{2}\\frac{\\partial}{\\partial y}y = $\n",
    "$ 3x^{2} $\n"
   ]
  },
  {
   "cell_type": "markdown",
   "metadata": {},
   "source": [
    "#### Gradient of $ f(x,y) $\n",
    "\n",
    "$ \\nabla f(x,y) = [\\frac{\\partial f(x,y)}{\\partial x},\\frac{\\partial f(x,y)}{\\partial y}] = $\n",
    "$ [6yx, 3x^{2}] $\n"
   ]
  },
  {
   "cell_type": "markdown",
   "metadata": {},
   "source": [
    "### Matrix calculus\n",
    "\n",
    "Given the functions $ f(x,y) = 3x^{2}y  $ and \n",
    "$ g(x,y) = 2x + y^{8} $\n",
    "\n",
    "\n",
    "$ \\frac{\\partial g(x,y)}{\\partial x} = $\n",
    "$ \\frac{\\partial 2x}{\\partial x} + \\frac{\\partial y^{8}}{\\partial x} = $\n",
    "$ 2\\frac{\\partial x}{\\partial x} + 0 = $\n",
    "$ 2 \\times 1 = 2 $\n",
    "\n",
    "and\n",
    "\n",
    "$ \\frac{\\partial g(x,y)}{\\partial y} = $\n",
    "$ \\frac{\\partial 2x}{\\partial y} + \\frac{\\partial y^{8}}{\\partial y} = $\n",
    "$ 0 + 8y^{7} = $\n",
    "$ 8y^{7} $\n",
    "\n",
    "giving us the gradient of $ g(x,y) $ as\n",
    "\n",
    "$ \\nabla g(x,y) = $\n",
    "$ [2,8y^{7}] $"
   ]
  },
  {
   "cell_type": "markdown",
   "metadata": {},
   "source": [
    "### Jacobian matrix (aka Jacobian)\n",
    "\n",
    "**_numerator layout_(used here)** :\n",
    "* rows: _equations(f,g)_ , \n",
    "* columns: _variables(x,y)_ \n",
    "\n",
    "\n",
    "$$\n",
    "J = \n",
    "\\begin{bmatrix}\n",
    "\\nabla f(x,y) \\\\\n",
    "\\nabla g(x,y)\n",
    "\\end{bmatrix} =\n",
    "\\begin{bmatrix}\n",
    "6yx & 3x^{2} \\\\\n",
    "2 & 8y^{7}\n",
    "\\end{bmatrix} \n",
    "$$\n",
    "\n",
    "_denominator layout_ - rows: _variables(x,y)_ , columns: _equations(f,g)_\n",
    "\n",
    "$$\n",
    "\\begin{bmatrix}\n",
    "6yx &  2 \\\\\n",
    "3x^{2} & 8y^{7}\n",
    "\\end{bmatrix} \n",
    "$$\n"
   ]
  },
  {
   "cell_type": "markdown",
   "metadata": {},
   "source": [
    "### Generalization of the Jacobian\n",
    "\n",
    "Combine $ f(x,y,z) \\Rightarrow f(x) $ where **`x`** is a vector (aka $ \\vec{x} $) and _x_ are scalars. e.g.  $ x_{i} $ is the $i^{th}$ element of vector **x**. \n",
    "\n",
    "Assume vector **x** is a column vector (vertical vector) by default of size $ n \\times 1 $. \n",
    "\n",
    "$$\n",
    "x = \n",
    "\\begin{bmatrix}\n",
    "x_{1} \\\\\n",
    "x_{2} \\\\\n",
    "\\vdots \\\\\n",
    "x_{n}\n",
    "\\end{bmatrix} \n",
    "$$"
   ]
  },
  {
   "cell_type": "markdown",
   "metadata": {},
   "source": [
    "For multiple scalar-valued functions, combine all into a vector just like the parameters. \n",
    "\n",
    "Let $ y = f(x) $ be a vector of `m` scalar-valued functions that each take a vector **x** of length $ n = \\vert x \\vert $ where $ \\vert x \\vert $ is the count of elements in **x**.\n",
    "\n",
    "Each $ f_{i} $ function within **f** returns a scalar.\n",
    "\n",
    "$$\n",
    "\\begin{matrix}\n",
    "y_{1} = f_{1}(x) \\\\\n",
    "y_{2} = f_{2}(x) \\\\\n",
    "\\vdots \\\\\n",
    "y_{m} = f_{m}(x)\n",
    "\\end{matrix} \n",
    "$$\n",
    "\n",
    "For instance, given $ f(x,y) = 3x^{2}y $ and $ g(x,y) = 2x + y^{8} $,\n",
    "then \n",
    "\n",
    "$ y_{1} = f_{1}(x) = 3x_{1}^{2}x_{2} $ (substituting $ x_{1} $ for _x_, $ x_{2} $ for _y_ )\n",
    "\n",
    "$ y_{2} = f_{2}(x) = 2x_{1} + x_{2}^{8} $\n",
    "\n",
    "\n"
   ]
  },
  {
   "cell_type": "markdown",
   "metadata": {},
   "source": [
    "For the identity function $ y = f(x) = x $ it will be the case that $ m = n $ :\n",
    "$$\n",
    "\\begin{matrix}\n",
    "y_{1} = f_{1}(x) = x_{1} \\\\\n",
    "y_{2} = f_{2}(x) = x_{2} \\\\\n",
    "\\vdots \\\\\n",
    "y_{m} = f_{m}(x) = x_{n}\n",
    "\\end{matrix} \n",
    "$$\n",
    "\n",
    "So for the identity function, we will $ m = n $ functions and parameters.\n",
    "\n",
    "Generally, the Jacobian matrix is the collection of all $ m \\times n $ possible partial derivatives (_m_ rows and _n_ columns), which is a stack of _m_ gradients with respect to **x**:\n",
    "\n",
    "$$\n",
    "\\frac {\\partial y}{\\partial x} \n",
    "=\n",
    "\\begin{bmatrix}\n",
    "\\nabla f_{1}(x) \\\\\n",
    "\\nabla f_{2}(x) \\\\\n",
    "\\dotsb \\\\\n",
    "\\nabla f_{m}(x)\n",
    "\\end{bmatrix} \n",
    "=\n",
    "\\begin{bmatrix}\n",
    "\\frac{\\partial}{\\partial x}f_{1}(x) \\\\\n",
    "\\frac{\\partial}{\\partial x}f_{2}(x) \\\\\n",
    "\\dotsb \\\\\n",
    "\\frac{\\partial}{\\partial x}f_{m}(x) \\\\\n",
    "\\end{bmatrix} \n",
    "=\n",
    "\\begin{bmatrix}\n",
    "\\frac{\\partial}{\\partial x_{1}}f_{1}(x) & \\frac{\\partial}{\\partial x_{2}}f_{1}(x) & \\dotsb & \\frac{\\partial}{\\partial x_{n}}f_{1}(x) \\\\\n",
    "\\frac{\\partial}{\\partial x_{1}}f_{2}(x) & \\frac{\\partial}{\\partial x_{2}}f_{2}(x) & \\dotsb & \\frac{\\partial}{\\partial x_{n}}f_{2}(x) \\\\\n",
    "\\dotsb \\\\\n",
    "\\frac{\\partial}{\\partial x_{1}}f_{m}(x) & \\frac{\\partial}{\\partial x_{2}}f_{m}(x) & \\dotsb & \\frac{\\partial}{\\partial x_{n}}f_{m}(x) \\\\\n",
    "\\end{bmatrix} \n",
    "$$\n"
   ]
  },
  {
   "cell_type": "markdown",
   "metadata": {},
   "source": [
    "Each $ \\frac{\\partial}{\\partial x}f_{i}(x) $ is a horizontal _n_-vector b/c the partial derivative wrt to the vector **x**, whose length $ n = \\vert x \\vert $. The _width_ of the Jacobian is _n_ if we take the partial derivative with respect to **x** because there are _n_ parameters we can wiggle, each potentially changing the function's value. Therefore, the Jacobian is always _m_ rows for _m_ equations.\n",
    "\n",
    "##### Jacobian Shapes \n",
    "![jacobian shapes](images/jacobian_shapes.png)"
   ]
  },
  {
   "cell_type": "markdown",
   "metadata": {},
   "source": [
    "#### An Example: Jacobian of the identity function\n",
    "Given the identity function $ \\pmb{f}(x) = \\pmb{x} $, with $ f_{i}(x) = x_{i} $, the Jacobian of the identity function  has _n_ functions and each function has _n_ parameters held in a single vector **x**. The Jacobian is, therefore, a square matrix since $ m = n $:\n",
    "\n",
    "$$\n",
    "\\frac{\\partial y}{\\partial x} \n",
    "=\n",
    "\\begin{bmatrix}\n",
    "\\frac{\\partial}{\\partial x}f_{1}(x) \\\\\n",
    "\\frac{\\partial}{\\partial x}f_{2}(x) \\\\\n",
    "\\dotsb \\\\\n",
    "\\frac{\\partial}{\\partial x}f_{m}(x) \\\\\n",
    "\\end{bmatrix} \n",
    "=\n",
    "\\begin{bmatrix}\n",
    "\\frac{\\partial}{\\partial x_{1}}f_{1}(x) & \\frac{\\partial}{\\partial x_{2}}f_{1}(x) & \\dotsb & \\frac{\\partial}{\\partial x_{n}}f_{1}(x) \\\\\n",
    "\\frac{\\partial}{\\partial x_{1}}f_{2}(x) & \\frac{\\partial}{\\partial x_{2}}f_{2}(x) & \\dotsb & \\frac{\\partial}{\\partial x_{n}}f_{2}(x) \\\\\n",
    "\\dotsb \\\\\n",
    "\\frac{\\partial}{\\partial x_{1}}f_{m}(x) & \\frac{\\partial}{\\partial x_{2}}f_{m}(x) & \\dotsb & \\frac{\\partial}{\\partial x_{n}}f_{m}(x) \\\\\n",
    "\\end{bmatrix} \n",
    "=\n",
    "\\begin{bmatrix}\n",
    "\\frac{\\partial}{\\partial x_{1}}x_{1} & \\frac{\\partial}{\\partial x_{2}}x_{1} & \\dotsb & \\frac{\\partial}{\\partial x_{n}}x_{1} \\\\\n",
    "\\frac{\\partial}{\\partial x_{1}}x_{2} & \\frac{\\partial}{\\partial x_{2}}x_{2} & \\dotsb & \\frac{\\partial}{\\partial x_{n}}x_{2} \\\\\n",
    "\\dotsb \\\\\n",
    "\\frac{\\partial}{\\partial x_{1}}x_{n} & \\frac{\\partial}{\\partial x_{2}}x_{n} & \\dotsb & \\frac{\\partial}{\\partial x_{n}}x_{n} \\\\\n",
    "\\end{bmatrix}\n",
    "$$\n",
    "\n",
    "And since $ \\frac{\\partial}{\\partial x_{j}}x_{i} = 0 $ for $ j \\ne i $ and $ \\frac{\\partial}{\\partial x_{j}}x_{i} = 1 $ for $ j = i $\n",
    "\n",
    "$$\n",
    "=\n",
    "\\begin{bmatrix}\n",
    "\\frac{\\partial}{\\partial x_{1}}x_{1} & 0 & \\dotsb & 0 \\\\\n",
    "0 & \\frac{\\partial}{\\partial x_{2}}x_{2} & \\dotsb & 0 \\\\\n",
    "  & & \\ddots \\\\\n",
    "0 & 0 & \\dotsb & \\frac{\\partial}{\\partial x_{n}}x_{n} \\\\\n",
    "\\end{bmatrix} \n",
    "=\n",
    "\\begin{bmatrix}\n",
    "1 & 0 & \\dotsb & 0 \\\\\n",
    "0 & 1 & \\dotsb & 0 \\\\\n",
    "  & & \\ddots \\\\\n",
    "0 & 0 & \\dotsb & 1 \\\\\n",
    "\\end{bmatrix}\n",
    "= I \n",
    "$$\n",
    "\n",
    "(_I_ is the identity matrix with the ones down the diagonal)"
   ]
  },
  {
   "cell_type": "markdown",
   "metadata": {},
   "source": [
    "### Derivatives of vector element-wise binary operators\n",
    "\n",
    "_Element-wise binary operations on vectors_ - applying an operation to the first element of each vector to get the first element of the output, then apply to the second items of each vector to get the second item of the output, and so forth.\n",
    "\n"
   ]
  },
  {
   "cell_type": "markdown",
   "metadata": {},
   "source": [
    "#### Generalized notation for element-wise binary operations\n",
    "$$\n",
    "\\pmb{y} = \\pmb{f}(w) \\bigcirc \\pmb{g}(x) \n",
    "$$\n",
    "\n",
    "where $ m = n = \\vert y \\vert = \\vert w \\vert = \\vert x \\vert $\n",
    "\n",
    "Reminder: $ \\vert x \\vert $ is the number of items in _x_"
   ]
  },
  {
   "cell_type": "markdown",
   "metadata": {},
   "source": [
    "Zooming in $ \\pmb{y} = \\pmb{f}(\\pmb{w}) \\bigcirc \\pmb{g}(\\pmb{x}) $\n",
    "gives :\n",
    "\n",
    "$$\n",
    "\\begin{bmatrix}\n",
    "y_{1} \\\\\n",
    "y_{2} \\\\\n",
    "\\vdots \\\\\n",
    "y_{n}\n",
    "\\end{bmatrix}\n",
    "=\n",
    "\\begin{bmatrix}\n",
    "f_{1}(w) \\bigcirc g_{1}(x) \\\\\n",
    "f_{2}(w) \\bigcirc g_{2}(x)  \\\\\n",
    "\\vdots \\\\\n",
    "f_{n}(w) \\bigcirc g_{n}(x) \n",
    "\\end{bmatrix} \n",
    "$$"
   ]
  },
  {
   "cell_type": "markdown",
   "metadata": {},
   "source": [
    "#### Jacobian of Elementwise Binary Operations\n",
    "The general case for the Jacobian of **y** wrt **w** is the square matrix:\n",
    "$$\n",
    "J_{W} =\n",
    "\\frac{\\partial y}{\\partial w} =\n",
    "\\begin{bmatrix}\n",
    "\\frac{\\partial}{\\partial w_{1}}(f_{1}(w) \\bigcirc g_{1}(x)) & \\frac{\\partial}{\\partial w_{2}}(f_{1}(w) \\bigcirc g_{1}(x)) & \\dotsb & \\frac{\\partial}{\\partial w_{n}}(f_{1}(w) \\bigcirc g_{1}(x)) \\\\\n",
    "\\frac{\\partial}{\\partial w_{1}}(f_{2}(w) \\bigcirc g_{2}(x)) & \\frac{\\partial}{\\partial w_{2}}(f_{2}(w) \\bigcirc g_{2}(x)) & \\dotsb & \\frac{\\partial}{\\partial w_{n}}(f_{2}(w) \\bigcirc g_{2}(x)) \\\\\n",
    "\\dotsb \\\\\n",
    "\\frac{\\partial}{\\partial w_{1}}(f_{n}(w) \\bigcirc g_{n}(x)) & \\frac{\\partial}{\\partial w_{2}}(f_{n}(w) \\bigcirc g_{n}(x)) & \\dotsb & \\frac{\\partial}{\\partial w_{n}}(f_{n}(w) \\bigcirc g_{n}(x)) \n",
    "\\end{bmatrix} \n",
    "$$\n"
   ]
  },
  {
   "cell_type": "markdown",
   "metadata": {},
   "source": [
    "The general case for the Jacobian of **y** wrt **x** is the square matrix:\n",
    "$$\n",
    "J_{X} =\n",
    "\\frac{\\partial y}{\\partial x} =\n",
    "\\begin{bmatrix}\n",
    "\\frac{\\partial}{\\partial x_{1}}(f_{1}(w) \\bigcirc g_{1}(x)) & \\frac{\\partial}{\\partial x_{2}}(f_{1}(w) \\bigcirc g_{1}(x)) & \\dotsb & \\frac{\\partial}{\\partial x_{n}}(f_{1}(w) \\bigcirc g_{1}(x)) \\\\\n",
    "\\frac{\\partial}{\\partial x_{1}}(f_{2}(w) \\bigcirc g_{2}(x)) & \\frac{\\partial}{\\partial x_{2}}(f_{2}(w) \\bigcirc g_{2}(x)) & \\dotsb & \\frac{\\partial}{\\partial w_{n}}(f_{2}(w) \\bigcirc g_{2}(x)) \\\\\n",
    "\\dotsb \\\\\n",
    "\\frac{\\partial}{\\partial x_{1}}(f_{n}(w) \\bigcirc g_{n}(x)) & \\frac{\\partial}{\\partial x_{2}}(f_{n}(w) \\bigcirc g_{n}(x)) & \\dotsb & \\frac{\\partial}{\\partial x_{n}}(f_{n}(w) \\bigcirc g_{n}(x)) \n",
    "\\end{bmatrix} \n",
    "$$\n"
   ]
  },
  {
   "cell_type": "markdown",
   "metadata": {},
   "source": [
    "### Diagonal Jacobians\n",
    "In a Diagonal Jacobian, all elements off the diagonal are zero, $ \\frac{\\partial}{\\partial w_{j}}(f_{i}(w) \\bigcirc g_{i}(x)) = 0 $ where $ j \\ne i $\n",
    "\n",
    "This will be the case when $ f_{i} $ and $ g_{i} $ are constants wrt  $ w_{j} $:\n",
    "\n",
    "$$ \n",
    "\\frac{\\partial}{\\partial w_{j}}f_{i}(w) =\n",
    "\\frac{\\partial}{\\partial w_{j}}g_{i}(x) = 0\n",
    "$$\n",
    "\n",
    "Regardless of the operation $ \\bigcirc $, if the partial derivatives go to zero, $ 0 \\bigcirc 0 = 0 $ and the partial derivative of a constant is zero.\n",
    "\n",
    "These partial derivatives go to zero when $f_{i} $ and $ g_{i} $ are not functions of $ w_{j} $.\n",
    "\n",
    "Element-wise operations imply that $ f_{i} $ is purely a function of $ w_{i} $ and $ g_{i} $ is purely a function of $ x_{i} $.\n",
    "\n",
    "For example, $ \\pmb{w} + \\pmb{x} $ sums $ w_{i} + x_{i} $. \n",
    "\n",
    "Consequently, $ f_{i}(w) \\bigcirc g_{i}(x) $ reduces to $ f_{i}(w_{i}) \\bigcirc g_{i}(x_{i}) $ and the goal becomes $ \\frac{\\partial}{\\partial w_{j}}f_{i}(w_{i}) = 0$ and $ \\frac{\\partial}{\\partial w_{j}}g_{i}(x_{i}) = 0 $\n",
    "\n",
    "Notice that $ f_{i}(w_{i}) $ and $ g_{i}(x_{i}) $ look like constants to the partial differentiation wrt to $ w_{j} $ when $ j \\ne i $\n",
    "\n",
    "#### Element-wise diagonal condition\n",
    "_Element-wise diagonal condition_ refers to the constraint that $ f_{i}(w) $ and $ g_{i}(x) $ access at most only $ w_{i} $ and $ x_{i} $, respectively."
   ]
  },
  {
   "cell_type": "markdown",
   "metadata": {},
   "source": [
    "### Jacobians under an element-wise diagonal condition\n",
    "\n",
    "Under this condition, the elements along the diagonal of the Jacobian are $ \\frac{\\partial}{\\partial w_{i}}(f_{i}(w_{i}) \\bigcirc g_{i}(x_{i})) $:\n",
    "\n",
    "$$\n",
    "\\frac{\\partial y}{\\partial w} = \n",
    "\\begin{bmatrix}\n",
    "\\frac{\\partial}{\\partial w_{1}}(f_{1}(w_{1}) \\bigcirc g_{1}(x_{1})) & & \\\\\n",
    "& \\frac{\\partial}{\\partial w_{2}}(f_{2}(w_{2}) \\bigcirc g_{2}(x_{2})) & \\huge0 \\\\\n",
    "\\dotsb \\\\\n",
    "\\huge0 & & \\frac{\\partial}{\\partial w_{n}}(f_{n}(w_{n}) \\bigcirc g_{n}(x_{n}))\n",
    "\\end{bmatrix}\n",
    "$$"
   ]
  },
  {
   "cell_type": "markdown",
   "metadata": {},
   "source": [
    "More succinctly, we can rewrite the following as:\n",
    "$$\n",
    "\\frac{\\partial y}{\\partial w} = \n",
    "diag \\left(\\frac{\\partial}{\\partial w_{1}}(f_{1}(w_{1}) \\bigcirc g_{1}(x_{1})),\n",
    "\\frac{\\partial}{\\partial w_{2}}(f_{2}(w_{2}) \\bigcirc g_{2}(x_{2})),\n",
    "\\dotsb ,\n",
    "\\frac{\\partial}{\\partial w_{n}}(f_{n}(w_{n}) \\bigcirc g_{n}(x_{n}))\\right)\n",
    "$$\n",
    "\n",
    "and\n",
    "\n",
    "$$\n",
    "\\frac{\\partial y}{\\partial x} = \n",
    "diag \\left(\\frac{\\partial}{\\partial x_{1}}(f_{1}(w_{1}) \\bigcirc g_{1}(x_{1})),\n",
    "\\frac{\\partial}{\\partial x_{2}}(f_{2}(w_{2}) \\bigcirc g_{2}(x_{2})),\n",
    "\\dotsb ,\n",
    "\\frac{\\partial}{\\partial x_{n}}(f_{n}(w_{n}) \\bigcirc g_{n}(x_{n}))\\right)\n",
    "$$\n",
    "\n",
    "where $ diag(x) $ constructs a matrix whose diagonal elements are taken from the vector $ \\pmb{x} $ \n"
   ]
  },
  {
   "cell_type": "code",
   "execution_count": null,
   "metadata": {},
   "outputs": [],
   "source": []
  },
  {
   "cell_type": "code",
   "execution_count": null,
   "metadata": {},
   "outputs": [],
   "source": []
  },
  {
   "cell_type": "code",
   "execution_count": null,
   "metadata": {},
   "outputs": [],
   "source": []
  },
  {
   "cell_type": "code",
   "execution_count": null,
   "metadata": {},
   "outputs": [],
   "source": []
  },
  {
   "cell_type": "code",
   "execution_count": null,
   "metadata": {},
   "outputs": [],
   "source": []
  },
  {
   "cell_type": "code",
   "execution_count": null,
   "metadata": {},
   "outputs": [],
   "source": []
  },
  {
   "cell_type": "code",
   "execution_count": null,
   "metadata": {},
   "outputs": [],
   "source": []
  },
  {
   "cell_type": "code",
   "execution_count": null,
   "metadata": {},
   "outputs": [],
   "source": []
  },
  {
   "cell_type": "code",
   "execution_count": null,
   "metadata": {},
   "outputs": [],
   "source": []
  },
  {
   "cell_type": "code",
   "execution_count": null,
   "metadata": {},
   "outputs": [],
   "source": []
  },
  {
   "cell_type": "markdown",
   "metadata": {},
   "source": [
    "### Questions and Exercises\n",
    "\n",
    "1. Compute the Jacobian  of the following function $ \\pmb{f}(\\pmb{w}) $:\n",
    "\n",
    "    1. such that $ f_{i}(w) = w_{i}^{2} $\n",
    "    \n",
    "    1. such that $ f_{i}(w) = w_{i}^{i} $\n",
    "    \n",
    "    1. such that $ f_{i}(w) = \\sum \\limits _{j} ^{m} w_{j}^{i} $ where $ n = m = \\vert w \\vert $\n",
    "\n"
   ]
  },
  {
   "cell_type": "code",
   "execution_count": null,
   "metadata": {},
   "outputs": [],
   "source": []
  }
 ],
 "metadata": {
  "kernelspec": {
   "display_name": "Python 3",
   "language": "python",
   "name": "python3"
  },
  "language_info": {
   "codemirror_mode": {
    "name": "ipython",
    "version": 3
   },
   "file_extension": ".py",
   "mimetype": "text/x-python",
   "name": "python",
   "nbconvert_exporter": "python",
   "pygments_lexer": "ipython3",
   "version": "3.7.7"
  },
  "varInspector": {
   "cols": {
    "lenName": 16,
    "lenType": 16,
    "lenVar": 40
   },
   "kernels_config": {
    "python": {
     "delete_cmd_postfix": "",
     "delete_cmd_prefix": "del ",
     "library": "var_list.py",
     "varRefreshCmd": "print(var_dic_list())"
    },
    "r": {
     "delete_cmd_postfix": ") ",
     "delete_cmd_prefix": "rm(",
     "library": "var_list.r",
     "varRefreshCmd": "cat(var_dic_list()) "
    }
   },
   "types_to_exclude": [
    "module",
    "function",
    "builtin_function_or_method",
    "instance",
    "_Feature"
   ],
   "window_display": false
  }
 },
 "nbformat": 4,
 "nbformat_minor": 4
}
