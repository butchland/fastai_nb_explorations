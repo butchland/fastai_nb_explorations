{
  "nbformat": 4,
  "nbformat_minor": 0,
  "metadata": {
    "colab": {
      "name": "CollectRealFingersData.ipynb",
      "provenance": [],
      "collapsed_sections": [],
      "toc_visible": true,
      "authorship_tag": "ABX9TyN72rRSGZsttt6w8w+Aqdgn",
      "include_colab_link": true
    },
    "kernelspec": {
      "name": "python3",
      "display_name": "Python 3"
    }
  },
  "cells": [
    {
      "cell_type": "markdown",
      "metadata": {
        "id": "view-in-github",
        "colab_type": "text"
      },
      "source": [
        "<a href=\"https://colab.research.google.com/github/butchland/fastai_nb_explorations/blob/master/CollectRealFingersData.ipynb\" target=\"_parent\"><img src=\"https://colab.research.google.com/assets/colab-badge.svg\" alt=\"Open In Colab\"/></a>"
      ]
    },
    {
      "cell_type": "markdown",
      "metadata": {
        "id": "LZ7xi9zsSsb7",
        "colab_type": "text"
      },
      "source": [
        "# Data Exploration notebooks for Fingers datasets"
      ]
    },
    {
      "cell_type": "markdown",
      "metadata": {
        "id": "r4i9cOODIxh0",
        "colab_type": "text"
      },
      "source": [
        "### Run using a CPU Runtime (no GPU needed)"
      ]
    },
    {
      "cell_type": "markdown",
      "metadata": {
        "id": "llTUM3bWTLJO",
        "colab_type": "text"
      },
      "source": [
        "## Environment setup"
      ]
    },
    {
      "cell_type": "code",
      "metadata": {
        "id": "_hl8hkvmDkNW",
        "colab_type": "code",
        "outputId": "129bda91-d115-4199-c364-00f35ffed508",
        "colab": {
          "base_uri": "https://localhost:8080/",
          "height": 102
        }
      },
      "source": [
        "!curl https://course.fast.ai/setup/colab | bash"
      ],
      "execution_count": 0,
      "outputs": [
        {
          "output_type": "stream",
          "text": [
            "  % Total    % Received % Xferd  Average Speed   Time    Time     Time  Current\n",
            "                                 Dload  Upload   Total   Spent    Left  Speed\n",
            "100   322  100   322    0     0    381      0 --:--:-- --:--:-- --:--:--   381\n",
            "Updating fastai...\n",
            "Done.\n"
          ],
          "name": "stdout"
        }
      ]
    },
    {
      "cell_type": "code",
      "metadata": {
        "id": "TteGcyYhEEi_",
        "colab_type": "code",
        "colab": {}
      },
      "source": [
        "!pip install fastai2 --upgrade\n",
        "!pip install fastcore --upgrade\n",
        "!pip install nbdev --upgrade"
      ],
      "execution_count": 0,
      "outputs": []
    },
    {
      "cell_type": "code",
      "metadata": {
        "id": "FyIRmd1AFGPO",
        "colab_type": "code",
        "colab": {}
      },
      "source": [
        "from google.colab import drive\n",
        "drive.mount('/content/drive')"
      ],
      "execution_count": 0,
      "outputs": []
    },
    {
      "cell_type": "code",
      "metadata": {
        "id": "VVy2lfJKFPzq",
        "colab_type": "code",
        "colab": {}
      },
      "source": [
        "from fastai2.vision.all import *"
      ],
      "execution_count": 0,
      "outputs": []
    },
    {
      "cell_type": "code",
      "metadata": {
        "id": "rNqytLLDFoAc",
        "colab_type": "code",
        "colab": {}
      },
      "source": [
        "escdrive = lambda x : x.as_posix().replace(' ','\\ ')"
      ],
      "execution_count": 0,
      "outputs": []
    },
    {
      "cell_type": "code",
      "metadata": {
        "id": "GU9zH5p9GI8J",
        "colab_type": "code",
        "colab": {}
      },
      "source": [
        "gdrive = Path('/content/drive/My Drive/fastai_v4')"
      ],
      "execution_count": 0,
      "outputs": []
    },
    {
      "cell_type": "code",
      "metadata": {
        "id": "TFD-j5nxGisi",
        "colab_type": "code",
        "outputId": "b30adaad-d76d-4d57-d687-7e2425467724",
        "colab": {
          "base_uri": "https://localhost:8080/",
          "height": 34
        }
      },
      "source": [
        "config = Config()\n",
        "data_path = config.d['data_path']\n",
        "archive_path = config.d['archive_path']\n",
        "model_path = config.d['model_path']\n",
        "(data_path, archive_path,model_path)"
      ],
      "execution_count": 0,
      "outputs": [
        {
          "output_type": "execute_result",
          "data": {
            "text/plain": [
              "('/root/.fastai/data', '/root/.fastai/archive', '/root/.fastai/models')"
            ]
          },
          "metadata": {
            "tags": []
          },
          "execution_count": 7
        }
      ]
    },
    {
      "cell_type": "markdown",
      "metadata": {
        "id": "PODEpAkqbAon",
        "colab_type": "text"
      },
      "source": [
        "## Collect Realworld Pics as Test Data"
      ]
    },
    {
      "cell_type": "code",
      "metadata": {
        "id": "zCJXbr3bc0FZ",
        "colab_type": "code",
        "colab": {}
      },
      "source": [
        "from IPython.display import display, Javascript\n",
        "from google.colab.output import eval_js\n",
        "from base64 import b64decode\n",
        "\n",
        "def take_photo(filename='photo.jpg', quality=0.8):\n",
        "  js = Javascript('''\n",
        "    async function takePhoto(quality) {\n",
        "      const div = document.createElement('div');\n",
        "      const capture = document.createElement('button');\n",
        "      capture.textContent = 'Capture';\n",
        "      div.appendChild(capture);\n",
        "\n",
        "      const video = document.createElement('video');\n",
        "      video.style.display = 'block';\n",
        "      const stream = await navigator.mediaDevices.getUserMedia({video: true});\n",
        "\n",
        "      document.body.appendChild(div);\n",
        "      div.appendChild(video);\n",
        "      video.srcObject = stream;\n",
        "      await video.play();\n",
        "\n",
        "      // Resize the output to fit the video element.\n",
        "      google.colab.output.setIframeHeight(document.documentElement.scrollHeight, true);\n",
        "\n",
        "      // Wait for Capture to be clicked.\n",
        "      await new Promise((resolve) => capture.onclick = resolve);\n",
        "\n",
        "      const canvas = document.createElement('canvas');\n",
        "      canvas.width = video.videoWidth;\n",
        "      canvas.height = video.videoHeight;\n",
        "      canvas.getContext('2d').drawImage(video, 0, 0);\n",
        "      stream.getVideoTracks()[0].stop();\n",
        "      div.remove();\n",
        "      return canvas.toDataURL('image/jpeg', quality);\n",
        "    }\n",
        "    ''')\n",
        "  display(js)\n",
        "  data = eval_js('takePhoto({})'.format(quality))\n",
        "  binary = b64decode(data.split(',')[1])\n",
        "  with open(filename, 'wb') as f:\n",
        "    f.write(binary)\n",
        "  return filename"
      ],
      "execution_count": 0,
      "outputs": []
    },
    {
      "cell_type": "code",
      "metadata": {
        "id": "J3dnmdY9c0EP",
        "colab_type": "code",
        "colab": {}
      },
      "source": [
        "from IPython.display import Image\n",
        "try:\n",
        "  filename = take_photo()\n",
        "  print('Saved to {}'.format(filename))\n",
        "  \n",
        "  # Show the image which was just taken.\n",
        "  display(Image(filename))\n",
        "except Exception as err:\n",
        "  # Errors will be thrown if the user does not have a webcam or if they do not\n",
        "  # grant the page permission to access it.\n",
        "  print(str(err))"
      ],
      "execution_count": 0,
      "outputs": []
    },
    {
      "cell_type": "code",
      "metadata": {
        "id": "tf_43ZaKjn3x",
        "colab_type": "code",
        "colab": {}
      },
      "source": [
        "!mkdir -p data/fingers/testset/orig\n",
        "!mv *.jpg data/fingers/testset/orig"
      ],
      "execution_count": 0,
      "outputs": []
    },
    {
      "cell_type": "code",
      "metadata": {
        "id": "owPSHr1Z9bAJ",
        "colab_type": "code",
        "colab": {}
      },
      "source": [
        "dataset = 'testset'\n",
        "path = Path(data_path)/'fingers'"
      ],
      "execution_count": 0,
      "outputs": []
    },
    {
      "cell_type": "markdown",
      "metadata": {
        "id": "BQPZ-su3JJER",
        "colab_type": "text"
      },
      "source": [
        "## Backup realworld testset to GDrive"
      ]
    },
    {
      "cell_type": "code",
      "metadata": {
        "colab_type": "code",
        "outputId": "841c45ba-4966-4cf1-8722-2a4feaec332a",
        "id": "ufEe2OXh-Aqp",
        "colab": {
          "base_uri": "https://localhost:8080/",
          "height": 34
        }
      },
      "source": [
        "!tar -czf {(Path(data_path)/(dataset + '.tgz')).as_posix()}  -C {Path(data_path).as_posix()} {path.as_posix()}  "
      ],
      "execution_count": 0,
      "outputs": [
        {
          "output_type": "stream",
          "text": [
            "tar: Removing leading `/' from member names\n"
          ],
          "name": "stdout"
        }
      ]
    },
    {
      "cell_type": "code",
      "metadata": {
        "id": "AN0a2BoG-2zP",
        "colab_type": "code",
        "colab": {}
      },
      "source": [
        "!cp data/testset.tgz {escdrive(gdrive/'data'/'fingers_testset.tgz')}"
      ],
      "execution_count": 0,
      "outputs": []
    }
  ]
}