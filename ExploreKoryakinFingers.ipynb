{
  "nbformat": 4,
  "nbformat_minor": 0,
  "metadata": {
    "colab": {
      "name": "ExploreKoryakinFingers.ipynb",
      "provenance": [],
      "collapsed_sections": [],
      "toc_visible": true,
      "authorship_tag": "ABX9TyM0cxGOZ3ZzCWN9g63h/O8o",
      "include_colab_link": true
    },
    "kernelspec": {
      "name": "python3",
      "display_name": "Python 3"
    },
    "widgets": {
      "application/vnd.jupyter.widget-state+json": {
        "e58e3ca8b6cb4f49bb89def810cdb674": {
          "model_module": "@jupyter-widgets/controls",
          "model_name": "HBoxModel",
          "state": {
            "_view_name": "HBoxView",
            "_dom_classes": [],
            "_model_name": "HBoxModel",
            "_view_module": "@jupyter-widgets/controls",
            "_model_module_version": "1.5.0",
            "_view_count": null,
            "_view_module_version": "1.5.0",
            "box_style": "",
            "layout": "IPY_MODEL_664500c47c0b4545ac0b51bc69abde49",
            "_model_module": "@jupyter-widgets/controls",
            "children": [
              "IPY_MODEL_b31681d8e2ac4c29ac6453f78b952588",
              "IPY_MODEL_1aa5d0dafe0a47bf8e6252cef4497a7d"
            ]
          }
        },
        "664500c47c0b4545ac0b51bc69abde49": {
          "model_module": "@jupyter-widgets/base",
          "model_name": "LayoutModel",
          "state": {
            "_view_name": "LayoutView",
            "grid_template_rows": null,
            "right": null,
            "justify_content": null,
            "_view_module": "@jupyter-widgets/base",
            "overflow": null,
            "_model_module_version": "1.2.0",
            "_view_count": null,
            "flex_flow": null,
            "width": null,
            "min_width": null,
            "border": null,
            "align_items": null,
            "bottom": null,
            "_model_module": "@jupyter-widgets/base",
            "top": null,
            "grid_column": null,
            "overflow_y": null,
            "overflow_x": null,
            "grid_auto_flow": null,
            "grid_area": null,
            "grid_template_columns": null,
            "flex": null,
            "_model_name": "LayoutModel",
            "justify_items": null,
            "grid_row": null,
            "max_height": null,
            "align_content": null,
            "visibility": null,
            "align_self": null,
            "height": null,
            "min_height": null,
            "padding": null,
            "grid_auto_rows": null,
            "grid_gap": null,
            "max_width": null,
            "order": null,
            "_view_module_version": "1.2.0",
            "grid_template_areas": null,
            "object_position": null,
            "object_fit": null,
            "grid_auto_columns": null,
            "margin": null,
            "display": null,
            "left": null
          }
        },
        "b31681d8e2ac4c29ac6453f78b952588": {
          "model_module": "@jupyter-widgets/controls",
          "model_name": "IntProgressModel",
          "state": {
            "_view_name": "ProgressView",
            "style": "IPY_MODEL_6fff38807e4842cabe71337b39b1faca",
            "_dom_classes": [],
            "description": "100%",
            "_model_name": "IntProgressModel",
            "bar_style": "success",
            "max": 87306240,
            "_view_module": "@jupyter-widgets/controls",
            "_model_module_version": "1.5.0",
            "value": 87306240,
            "_view_count": null,
            "_view_module_version": "1.5.0",
            "orientation": "horizontal",
            "min": 0,
            "description_tooltip": null,
            "_model_module": "@jupyter-widgets/controls",
            "layout": "IPY_MODEL_7f7ae758bcfa4268a96af4a58af52388"
          }
        },
        "1aa5d0dafe0a47bf8e6252cef4497a7d": {
          "model_module": "@jupyter-widgets/controls",
          "model_name": "HTMLModel",
          "state": {
            "_view_name": "HTMLView",
            "style": "IPY_MODEL_f3049966e26d4dd489bda56910b88f18",
            "_dom_classes": [],
            "description": "",
            "_model_name": "HTMLModel",
            "placeholder": "​",
            "_view_module": "@jupyter-widgets/controls",
            "_model_module_version": "1.5.0",
            "value": " 83.3M/83.3M [00:01&lt;00:00, 72.1MB/s]",
            "_view_count": null,
            "_view_module_version": "1.5.0",
            "description_tooltip": null,
            "_model_module": "@jupyter-widgets/controls",
            "layout": "IPY_MODEL_3912ce2702e44d9fa62e75a9cdb1a23a"
          }
        },
        "6fff38807e4842cabe71337b39b1faca": {
          "model_module": "@jupyter-widgets/controls",
          "model_name": "ProgressStyleModel",
          "state": {
            "_view_name": "StyleView",
            "_model_name": "ProgressStyleModel",
            "description_width": "initial",
            "_view_module": "@jupyter-widgets/base",
            "_model_module_version": "1.5.0",
            "_view_count": null,
            "_view_module_version": "1.2.0",
            "bar_color": null,
            "_model_module": "@jupyter-widgets/controls"
          }
        },
        "7f7ae758bcfa4268a96af4a58af52388": {
          "model_module": "@jupyter-widgets/base",
          "model_name": "LayoutModel",
          "state": {
            "_view_name": "LayoutView",
            "grid_template_rows": null,
            "right": null,
            "justify_content": null,
            "_view_module": "@jupyter-widgets/base",
            "overflow": null,
            "_model_module_version": "1.2.0",
            "_view_count": null,
            "flex_flow": null,
            "width": null,
            "min_width": null,
            "border": null,
            "align_items": null,
            "bottom": null,
            "_model_module": "@jupyter-widgets/base",
            "top": null,
            "grid_column": null,
            "overflow_y": null,
            "overflow_x": null,
            "grid_auto_flow": null,
            "grid_area": null,
            "grid_template_columns": null,
            "flex": null,
            "_model_name": "LayoutModel",
            "justify_items": null,
            "grid_row": null,
            "max_height": null,
            "align_content": null,
            "visibility": null,
            "align_self": null,
            "height": null,
            "min_height": null,
            "padding": null,
            "grid_auto_rows": null,
            "grid_gap": null,
            "max_width": null,
            "order": null,
            "_view_module_version": "1.2.0",
            "grid_template_areas": null,
            "object_position": null,
            "object_fit": null,
            "grid_auto_columns": null,
            "margin": null,
            "display": null,
            "left": null
          }
        },
        "f3049966e26d4dd489bda56910b88f18": {
          "model_module": "@jupyter-widgets/controls",
          "model_name": "DescriptionStyleModel",
          "state": {
            "_view_name": "StyleView",
            "_model_name": "DescriptionStyleModel",
            "description_width": "",
            "_view_module": "@jupyter-widgets/base",
            "_model_module_version": "1.5.0",
            "_view_count": null,
            "_view_module_version": "1.2.0",
            "_model_module": "@jupyter-widgets/controls"
          }
        },
        "3912ce2702e44d9fa62e75a9cdb1a23a": {
          "model_module": "@jupyter-widgets/base",
          "model_name": "LayoutModel",
          "state": {
            "_view_name": "LayoutView",
            "grid_template_rows": null,
            "right": null,
            "justify_content": null,
            "_view_module": "@jupyter-widgets/base",
            "overflow": null,
            "_model_module_version": "1.2.0",
            "_view_count": null,
            "flex_flow": null,
            "width": null,
            "min_width": null,
            "border": null,
            "align_items": null,
            "bottom": null,
            "_model_module": "@jupyter-widgets/base",
            "top": null,
            "grid_column": null,
            "overflow_y": null,
            "overflow_x": null,
            "grid_auto_flow": null,
            "grid_area": null,
            "grid_template_columns": null,
            "flex": null,
            "_model_name": "LayoutModel",
            "justify_items": null,
            "grid_row": null,
            "max_height": null,
            "align_content": null,
            "visibility": null,
            "align_self": null,
            "height": null,
            "min_height": null,
            "padding": null,
            "grid_auto_rows": null,
            "grid_gap": null,
            "max_width": null,
            "order": null,
            "_view_module_version": "1.2.0",
            "grid_template_areas": null,
            "object_position": null,
            "object_fit": null,
            "grid_auto_columns": null,
            "margin": null,
            "display": null,
            "left": null
          }
        }
      }
    }
  },
  "cells": [
    {
      "cell_type": "markdown",
      "metadata": {
        "id": "view-in-github",
        "colab_type": "text"
      },
      "source": [
        "<a href=\"https://colab.research.google.com/github/butchland/fastai_nb_explorations/blob/master/ExploreKoryakinFingers.ipynb\" target=\"_parent\"><img src=\"https://colab.research.google.com/assets/colab-badge.svg\" alt=\"Open In Colab\"/></a>"
      ]
    },
    {
      "cell_type": "markdown",
      "metadata": {
        "id": "LZ7xi9zsSsb7",
        "colab_type": "text"
      },
      "source": [
        "# Data Exploration notebooks for Fingers datasets"
      ]
    },
    {
      "cell_type": "markdown",
      "metadata": {
        "id": "llTUM3bWTLJO",
        "colab_type": "text"
      },
      "source": [
        "## Environment setup"
      ]
    },
    {
      "cell_type": "code",
      "metadata": {
        "id": "_hl8hkvmDkNW",
        "colab_type": "code",
        "outputId": "129bda91-d115-4199-c364-00f35ffed508",
        "colab": {
          "base_uri": "https://localhost:8080/",
          "height": 102
        }
      },
      "source": [
        "!curl https://course.fast.ai/setup/colab | bash"
      ],
      "execution_count": 1,
      "outputs": [
        {
          "output_type": "stream",
          "text": [
            "  % Total    % Received % Xferd  Average Speed   Time    Time     Time  Current\n",
            "                                 Dload  Upload   Total   Spent    Left  Speed\n",
            "100   322  100   322    0     0    381      0 --:--:-- --:--:-- --:--:--   381\n",
            "Updating fastai...\n",
            "Done.\n"
          ],
          "name": "stdout"
        }
      ]
    },
    {
      "cell_type": "code",
      "metadata": {
        "id": "TteGcyYhEEi_",
        "colab_type": "code",
        "colab": {}
      },
      "source": [
        "!pip install fastai2 --upgrade\n",
        "!pip install fastcore --upgrade\n",
        "!pip install nbdev --upgrade"
      ],
      "execution_count": 0,
      "outputs": []
    },
    {
      "cell_type": "code",
      "metadata": {
        "id": "FyIRmd1AFGPO",
        "colab_type": "code",
        "outputId": "e8fde8c7-0540-4bcb-f4d3-3b5da5b5ca15",
        "colab": {
          "base_uri": "https://localhost:8080/",
          "height": 122
        }
      },
      "source": [
        "from google.colab import drive\n",
        "drive.mount('/content/drive')"
      ],
      "execution_count": 3,
      "outputs": [
        {
          "output_type": "stream",
          "text": [
            "Go to this URL in a browser: https://accounts.google.com/o/oauth2/auth?client_id=947318989803-6bn6qk8qdgf4n4g3pfee6491hc0brc4i.apps.googleusercontent.com&redirect_uri=urn%3aietf%3awg%3aoauth%3a2.0%3aoob&response_type=code&scope=email%20https%3a%2f%2fwww.googleapis.com%2fauth%2fdocs.test%20https%3a%2f%2fwww.googleapis.com%2fauth%2fdrive%20https%3a%2f%2fwww.googleapis.com%2fauth%2fdrive.photos.readonly%20https%3a%2f%2fwww.googleapis.com%2fauth%2fpeopleapi.readonly\n",
            "\n",
            "Enter your authorization code:\n",
            "··········\n",
            "Mounted at /content/drive\n"
          ],
          "name": "stdout"
        }
      ]
    },
    {
      "cell_type": "code",
      "metadata": {
        "id": "VVy2lfJKFPzq",
        "colab_type": "code",
        "colab": {}
      },
      "source": [
        "from fastai2.vision.all import *"
      ],
      "execution_count": 0,
      "outputs": []
    },
    {
      "cell_type": "code",
      "metadata": {
        "id": "rNqytLLDFoAc",
        "colab_type": "code",
        "colab": {}
      },
      "source": [
        "escdrive = lambda x : x.as_posix().replace(' ','\\ ')"
      ],
      "execution_count": 0,
      "outputs": []
    },
    {
      "cell_type": "code",
      "metadata": {
        "id": "GU9zH5p9GI8J",
        "colab_type": "code",
        "colab": {}
      },
      "source": [
        "gdrive = Path('/content/drive/My Drive/fastai_v4')"
      ],
      "execution_count": 0,
      "outputs": []
    },
    {
      "cell_type": "code",
      "metadata": {
        "id": "TFD-j5nxGisi",
        "colab_type": "code",
        "outputId": "b30adaad-d76d-4d57-d687-7e2425467724",
        "colab": {
          "base_uri": "https://localhost:8080/",
          "height": 34
        }
      },
      "source": [
        "config = Config()\n",
        "data_path = config.d['data_path']\n",
        "archive_path = config.d['archive_path']\n",
        "model_path = config.d['model_path']\n",
        "(data_path, archive_path,model_path)"
      ],
      "execution_count": 7,
      "outputs": [
        {
          "output_type": "execute_result",
          "data": {
            "text/plain": [
              "('/root/.fastai/data', '/root/.fastai/archive', '/root/.fastai/models')"
            ]
          },
          "metadata": {
            "tags": []
          },
          "execution_count": 7
        }
      ]
    },
    {
      "cell_type": "markdown",
      "metadata": {
        "id": "3EI83z5kTj4y",
        "colab_type": "text"
      },
      "source": [
        "## Prepare data"
      ]
    },
    {
      "cell_type": "code",
      "metadata": {
        "id": "sogSAvvDGXVO",
        "colab_type": "code",
        "outputId": "d0f9461e-5dcf-4072-935e-25e7d9db938f",
        "colab": {
          "base_uri": "https://localhost:8080/",
          "height": 52
        }
      },
      "source": [
        "!ls {escdrive(gdrive/'data')}"
      ],
      "execution_count": 0,
      "outputs": [
        {
          "output_type": "stream",
          "text": [
            "ardamavi_Sign-Language-Digits-Dataset.tgz  mahendran1_fingers.zip\n",
            "koryakinp_fingers.zip\t\t\t   roshea6_finger-digits-05.zip\n"
          ],
          "name": "stdout"
        }
      ]
    },
    {
      "cell_type": "code",
      "metadata": {
        "id": "VJ3nvZGBG72m",
        "colab_type": "code",
        "colab": {}
      },
      "source": [
        "!mkdir -p {archive_path}\n",
        "!cp {escdrive(gdrive/'data'/'koryakinp_fingers.zip')} {archive_path}"
      ],
      "execution_count": 0,
      "outputs": []
    },
    {
      "cell_type": "code",
      "metadata": {
        "id": "aglBcxfDHTxT",
        "colab_type": "code",
        "outputId": "b6bb9062-cb4c-4e69-83fb-ff1dda278b86",
        "colab": {
          "base_uri": "https://localhost:8080/",
          "height": 34
        }
      },
      "source": [
        "!ls {archive_path}/*"
      ],
      "execution_count": 0,
      "outputs": [
        {
          "output_type": "stream",
          "text": [
            "/root/.fastai/archive/koryakinp_fingers.zip\n"
          ],
          "name": "stdout"
        }
      ]
    },
    {
      "cell_type": "code",
      "metadata": {
        "id": "kqG8IuWkHX7K",
        "colab_type": "code",
        "colab": {}
      },
      "source": [
        "!unzip {archive_path}/koryakinp_fingers.zip"
      ],
      "execution_count": 0,
      "outputs": []
    },
    {
      "cell_type": "code",
      "metadata": {
        "id": "sXx8fB4VIIck",
        "colab_type": "code",
        "outputId": "078c0309-d5e2-4fe5-f1db-3e44881702da",
        "colab": {
          "base_uri": "https://localhost:8080/",
          "height": 34
        }
      },
      "source": [
        "!ls -ald {archive_path}/*"
      ],
      "execution_count": 0,
      "outputs": [
        {
          "output_type": "stream",
          "text": [
            "-rw------- 1 root root 380836604 Apr  9 08:46 /root/.fastai/archive/koryakinp_fingers.zip\n"
          ],
          "name": "stdout"
        }
      ]
    },
    {
      "cell_type": "code",
      "metadata": {
        "id": "_M3vuY_UH-Bu",
        "colab_type": "code",
        "colab": {}
      },
      "source": [
        "# clean extra copies and move data to data folder\n",
        "!rm -rf train\n",
        "!rm -rf test\n",
        "!mv fingers data/koryakinp_fingers"
      ],
      "execution_count": 0,
      "outputs": []
    },
    {
      "cell_type": "markdown",
      "metadata": {
        "id": "D1E2sBdAUzbi",
        "colab_type": "text"
      },
      "source": [
        "## Explore data and folder structure"
      ]
    },
    {
      "cell_type": "code",
      "metadata": {
        "id": "drA7jQihImqe",
        "colab_type": "code",
        "colab": {}
      },
      "source": [
        "path = Path(data_path)/'koryakinp_fingers'"
      ],
      "execution_count": 0,
      "outputs": []
    },
    {
      "cell_type": "code",
      "metadata": {
        "id": "1CTCsYcKJBVS",
        "colab_type": "code",
        "colab": {}
      },
      "source": [
        "img_files = get_image_files(path)"
      ],
      "execution_count": 0,
      "outputs": []
    },
    {
      "cell_type": "code",
      "metadata": {
        "id": "MTTBAyr-JF5_",
        "colab_type": "code",
        "outputId": "3d05d669-e010-47bc-aa95-8a75091acebe",
        "colab": {
          "base_uri": "https://localhost:8080/",
          "height": 54
        }
      },
      "source": [
        "img_files[:5]"
      ],
      "execution_count": 0,
      "outputs": [
        {
          "output_type": "execute_result",
          "data": {
            "text/plain": [
              "(#5) [Path('/root/.fastai/data/koryakinp_fingers/train/66952cc5-8b4f-425b-b890-eaa5ad667a07_2L.png'),Path('/root/.fastai/data/koryakinp_fingers/train/3a97d203-0756-4039-9ae7-102136df2cff_2L.png'),Path('/root/.fastai/data/koryakinp_fingers/train/11b59162-454c-4664-83a5-f61ed7db920d_2R.png'),Path('/root/.fastai/data/koryakinp_fingers/train/cd7454b0-7953-45e6-b77e-aa7e343d9df5_5L.png'),Path('/root/.fastai/data/koryakinp_fingers/train/e93852ba-cb1c-4253-a851-f82686d05c6b_0R.png')]"
            ]
          },
          "metadata": {
            "tags": []
          },
          "execution_count": 19
        }
      ]
    },
    {
      "cell_type": "code",
      "metadata": {
        "id": "0eFbuVeoJI3A",
        "colab_type": "code",
        "outputId": "5c927250-c857-4a05-fc9b-3c1b58fbc5b4",
        "colab": {
          "base_uri": "https://localhost:8080/",
          "height": 34
        }
      },
      "source": [
        "len(img_files)"
      ],
      "execution_count": 0,
      "outputs": [
        {
          "output_type": "execute_result",
          "data": {
            "text/plain": [
              "21600"
            ]
          },
          "metadata": {
            "tags": []
          },
          "execution_count": 20
        }
      ]
    },
    {
      "cell_type": "code",
      "metadata": {
        "id": "5Pd4iwvuJMrv",
        "colab_type": "code",
        "outputId": "069d4e42-59f0-4d4e-c8da-9fa1e5d90d8e",
        "colab": {
          "base_uri": "https://localhost:8080/",
          "height": 145
        }
      },
      "source": [
        "img1 = PILImage.create(img_files[0]);img1"
      ],
      "execution_count": 0,
      "outputs": [
        {
          "output_type": "execute_result",
          "data": {
            "image/png": "[encoded data removed]",
            "text/plain": [
              "PILImage mode=RGB size=128x128"
            ]
          },
          "metadata": {
            "tags": []
          },
          "execution_count": 23
        }
      ]
    },
    {
      "cell_type": "code",
      "metadata": {
        "id": "ch4NDsSuMn9D",
        "colab_type": "code",
        "outputId": "d3cae18f-22ab-4cf6-85c1-7fb93d46f9cc",
        "colab": {
          "base_uri": "https://localhost:8080/",
          "height": 34
        }
      },
      "source": [
        "img1.shape"
      ],
      "execution_count": 0,
      "outputs": [
        {
          "output_type": "execute_result",
          "data": {
            "text/plain": [
              "(128, 128)"
            ]
          },
          "metadata": {
            "tags": []
          },
          "execution_count": 29
        }
      ]
    },
    {
      "cell_type": "markdown",
      "metadata": {
        "id": "hlww2wMNSiuQ",
        "colab_type": "text"
      },
      "source": [
        "## Build datablock"
      ]
    },
    {
      "cell_type": "code",
      "metadata": {
        "id": "jACZRaQLJpZs",
        "colab_type": "code",
        "colab": {}
      },
      "source": [
        "pat = r'/[^/]+_([0-9RL]+).png$'\n",
        "labeller = RegexLabeller(pat)"
      ],
      "execution_count": 0,
      "outputs": []
    },
    {
      "cell_type": "code",
      "metadata": {
        "id": "FTjAdLC0KOWy",
        "colab_type": "code",
        "outputId": "53af5e04-df8a-4db0-a382-89881175cb2b",
        "colab": {
          "base_uri": "https://localhost:8080/",
          "height": 34
        }
      },
      "source": [
        "labeller(img_files[0])"
      ],
      "execution_count": 0,
      "outputs": [
        {
          "output_type": "execute_result",
          "data": {
            "text/plain": [
              "'2L'"
            ]
          },
          "metadata": {
            "tags": []
          },
          "execution_count": 25
        }
      ]
    },
    {
      "cell_type": "code",
      "metadata": {
        "id": "7PE6_-ShKWUr",
        "colab_type": "code",
        "colab": {}
      },
      "source": [
        "def is_valid(o):\n",
        "  return parent_label(o) == 'test'"
      ],
      "execution_count": 0,
      "outputs": []
    },
    {
      "cell_type": "code",
      "metadata": {
        "id": "-WD-FTPSKlfI",
        "colab_type": "code",
        "outputId": "eeb5c0e6-63d2-4537-8235-7251d5eb1acc",
        "colab": {
          "base_uri": "https://localhost:8080/",
          "height": 34
        }
      },
      "source": [
        "is_valid(img_files[0])"
      ],
      "execution_count": 0,
      "outputs": [
        {
          "output_type": "execute_result",
          "data": {
            "text/plain": [
              "False"
            ]
          },
          "metadata": {
            "tags": []
          },
          "execution_count": 27
        }
      ]
    },
    {
      "cell_type": "code",
      "metadata": {
        "id": "xVb7RtxmJnW2",
        "colab_type": "code",
        "outputId": "e0f681c1-dd13-4af0-d830-e87495d85e03",
        "colab": {
          "base_uri": "https://localhost:8080/",
          "height": 34
        }
      },
      "source": [
        "is_valid(Path(str(img_files[0]).replace('train','test')))"
      ],
      "execution_count": 0,
      "outputs": [
        {
          "output_type": "execute_result",
          "data": {
            "text/plain": [
              "True"
            ]
          },
          "metadata": {
            "tags": []
          },
          "execution_count": 28
        }
      ]
    },
    {
      "cell_type": "code",
      "metadata": {
        "id": "5bJntcsCLYcA",
        "colab_type": "code",
        "colab": {}
      },
      "source": [
        "fing_dblock = DataBlock(\n",
        "    blocks=(ImageBlock, CategoryBlock),\n",
        "    get_items = get_image_files,\n",
        "    get_y = labeller,\n",
        "    splitter = FuncSplitter(is_valid),\n",
        "    item_tfms = Resize(128)\n",
        ")"
      ],
      "execution_count": 0,
      "outputs": []
    },
    {
      "cell_type": "code",
      "metadata": {
        "id": "cE8DL39nMwlq",
        "colab_type": "code",
        "outputId": "6b05349c-da2c-4765-edb9-6394b3fc2885",
        "colab": {
          "base_uri": "https://localhost:8080/",
          "height": 885
        }
      },
      "source": [
        "fing_dblock.summary(path)"
      ],
      "execution_count": 0,
      "outputs": [
        {
          "output_type": "stream",
          "text": [
            "Setting-up type transforms pipelines\n",
            "Collecting items from /root/.fastai/data/koryakinp_fingers\n",
            "Found 21600 items\n",
            "2 datasets of sizes 18000,3600\n",
            "Setting up Pipeline: PILBase.create\n",
            "Setting up Pipeline: RegexLabeller -> Categorize\n",
            "\n",
            "Building one sample\n",
            "  Pipeline: PILBase.create\n",
            "    starting from\n",
            "      /root/.fastai/data/koryakinp_fingers/train/66952cc5-8b4f-425b-b890-eaa5ad667a07_2L.png\n",
            "    applying PILBase.create gives\n",
            "      PILImage mode=RGB size=128x128\n",
            "  Pipeline: RegexLabeller -> Categorize\n",
            "    starting from\n",
            "      /root/.fastai/data/koryakinp_fingers/train/66952cc5-8b4f-425b-b890-eaa5ad667a07_2L.png\n",
            "    applying RegexLabeller gives\n",
            "      2L\n",
            "    applying Categorize gives\n",
            "      TensorCategory(4)\n",
            "\n",
            "Final sample: (PILImage mode=RGB size=128x128, TensorCategory(4))\n",
            "\n",
            "\n",
            "Setting up after_item: Pipeline: Resize -> ToTensor\n",
            "Setting up before_batch: Pipeline: \n",
            "Setting up after_batch: Pipeline: IntToFloatTensor\n",
            "\n",
            "Building one batch\n",
            "Applying item_tfms to the first sample:\n",
            "  Pipeline: Resize -> ToTensor\n",
            "    starting from\n",
            "      (PILImage mode=RGB size=128x128, TensorCategory(4))\n",
            "    applying Resize gives\n",
            "      (PILImage mode=RGB size=128x128, TensorCategory(4))\n",
            "    applying ToTensor gives\n",
            "      (TensorImage of size 3x128x128, TensorCategory(4))\n",
            "\n",
            "Adding the next 3 samples\n",
            "\n",
            "No before_batch transform to apply\n",
            "\n",
            "Collating items in a batch\n",
            "\n",
            "Applying batch_tfms to the batch built\n",
            "  Pipeline: IntToFloatTensor\n",
            "    starting from\n",
            "      (TensorImage of size 4x3x128x128, TensorCategory([ 4,  4,  5, 10], device='cuda:0'))\n",
            "    applying IntToFloatTensor gives\n",
            "      (TensorImage of size 4x3x128x128, TensorCategory([ 4,  4,  5, 10], device='cuda:0'))\n"
          ],
          "name": "stdout"
        }
      ]
    },
    {
      "cell_type": "markdown",
      "metadata": {
        "id": "1QoI59j4VHMi",
        "colab_type": "text"
      },
      "source": [
        "## Build Datasets"
      ]
    },
    {
      "cell_type": "code",
      "metadata": {
        "id": "CuveyTBzMzm5",
        "colab_type": "code",
        "outputId": "0b80fe34-749b-4c2a-8475-cc00a23f17a8",
        "colab": {
          "base_uri": "https://localhost:8080/",
          "height": 104
        }
      },
      "source": [
        "fing_dsets = fing_dblock.datasets(path, verbose=True)"
      ],
      "execution_count": 0,
      "outputs": [
        {
          "output_type": "stream",
          "text": [
            "Collecting items from /root/.fastai/data/koryakinp_fingers\n",
            "Found 21600 items\n",
            "2 datasets of sizes 18000,3600\n",
            "Setting up Pipeline: PILBase.create\n",
            "Setting up Pipeline: RegexLabeller -> Categorize\n"
          ],
          "name": "stdout"
        }
      ]
    },
    {
      "cell_type": "code",
      "metadata": {
        "id": "4w0DlcpoNYo6",
        "colab_type": "code",
        "outputId": "184ab534-cf79-48e0-df81-251aef575fa1",
        "colab": {
          "base_uri": "https://localhost:8080/",
          "height": 34
        }
      },
      "source": [
        "list(fing_dsets.vocab)"
      ],
      "execution_count": 0,
      "outputs": [
        {
          "output_type": "execute_result",
          "data": {
            "text/plain": [
              "['0L', '0R', '1L', '1R', '2L', '2R', '3L', '3R', '4L', '4R', '5L', '5R']"
            ]
          },
          "metadata": {
            "tags": []
          },
          "execution_count": 34
        }
      ]
    },
    {
      "cell_type": "markdown",
      "metadata": {
        "id": "SsgeylHXO6ux",
        "colab_type": "text"
      },
      "source": [
        "## Build DataFrames from Datasets"
      ]
    },
    {
      "cell_type": "code",
      "metadata": {
        "id": "BdtiHTXyNeWC",
        "colab_type": "code",
        "colab": {}
      },
      "source": [
        "valid_df = pd.DataFrame({\n",
        "    'inputs':pd.Series(fing_dsets.valid.items,dtype='object'),\n",
        "    'labels':pd.Series([labeller(o) for o in fing_dsets.valid.items], dtype='category'),\n",
        "    'split': pd.Series([parent_label(o) for o in fing_dsets.valid.items], dtype='category'),\n",
        "})"
      ],
      "execution_count": 0,
      "outputs": []
    },
    {
      "cell_type": "code",
      "metadata": {
        "id": "889lhKKuO0Jx",
        "colab_type": "code",
        "colab": {}
      },
      "source": [
        "train_df = pd.DataFrame({\n",
        "    'inputs':pd.Series(fing_dsets.train.items,dtype='object'),\n",
        "    'labels':pd.Series([labeller(o) for o in fing_dsets.train.items], dtype='category'),\n",
        "    'split': pd.Series([parent_label(o) for o in fing_dsets.train.items], dtype='category'),\n",
        "})"
      ],
      "execution_count": 0,
      "outputs": []
    },
    {
      "cell_type": "code",
      "metadata": {
        "id": "0ewk1mCsO_37",
        "colab_type": "code",
        "outputId": "a369faa5-e0c5-42b5-dc53-50c98a3c387f",
        "colab": {
          "base_uri": "https://localhost:8080/",
          "height": 315
        }
      },
      "source": [
        "all_df = pd.concat([valid_df, train_df]); (all_df.head(), all_df.tail())"
      ],
      "execution_count": 0,
      "outputs": [
        {
          "output_type": "execute_result",
          "data": {
            "text/plain": [
              "(                                                                                  inputs  ... split\n",
              " 0  /root/.fastai/data/koryakinp_fingers/test/38837633-d6c8-4c7e-a748-6a08acad8919_5L.png  ...  test\n",
              " 1  /root/.fastai/data/koryakinp_fingers/test/45505cf0-10c5-48b9-9ed5-9f2f0c2a9448_5R.png  ...  test\n",
              " 2  /root/.fastai/data/koryakinp_fingers/test/0c95f57f-a1cb-4524-b573-d1ce377e9dac_2L.png  ...  test\n",
              " 3  /root/.fastai/data/koryakinp_fingers/test/7cb7ad92-4dc5-4c3a-b136-a161f0f25148_5L.png  ...  test\n",
              " 4  /root/.fastai/data/koryakinp_fingers/test/c1e3e52f-a5a6-4177-b9da-2a2224987074_3L.png  ...  test\n",
              " \n",
              " [5 rows x 3 columns],\n",
              "                                                                                        inputs  ...  split\n",
              " 17995  /root/.fastai/data/koryakinp_fingers/train/8364aacb-0644-4003-89c1-c8a9c84e75c0_2L.png  ...  train\n",
              " 17996  /root/.fastai/data/koryakinp_fingers/train/0699409f-b41b-4d0f-a025-91ad0a532108_3R.png  ...  train\n",
              " 17997  /root/.fastai/data/koryakinp_fingers/train/ea7f8b89-68f9-4f2a-9faf-7adcfabd2c99_1R.png  ...  train\n",
              " 17998  /root/.fastai/data/koryakinp_fingers/train/09eaea6e-2820-4008-b30a-3e5ac0ad2be7_4L.png  ...  train\n",
              " 17999  /root/.fastai/data/koryakinp_fingers/train/4f2a0890-710f-4516-a015-f0563c526a86_5R.png  ...  train\n",
              " \n",
              " [5 rows x 3 columns])"
            ]
          },
          "metadata": {
            "tags": []
          },
          "execution_count": 37
        }
      ]
    },
    {
      "cell_type": "code",
      "metadata": {
        "id": "T5teiDSnPLqe",
        "colab_type": "code",
        "outputId": "2949b64a-4435-4017-bf64-b35eed5b50d2",
        "colab": {
          "base_uri": "https://localhost:8080/",
          "height": 139
        }
      },
      "source": [
        "valid_df['labels'].head()"
      ],
      "execution_count": 0,
      "outputs": [
        {
          "output_type": "execute_result",
          "data": {
            "text/plain": [
              "0    5L\n",
              "1    5R\n",
              "2    2L\n",
              "3    5L\n",
              "4    3L\n",
              "Name: labels, dtype: category\n",
              "Categories (12, object): [0L, 0R, 1L, 1R, ..., 4L, 4R, 5L, 5R]"
            ]
          },
          "metadata": {
            "tags": []
          },
          "execution_count": 39
        }
      ]
    },
    {
      "cell_type": "code",
      "metadata": {
        "id": "XrTvYp-EP3Wk",
        "colab_type": "code",
        "outputId": "c3824846-6dee-413d-f56d-8557a9724afd",
        "colab": {
          "base_uri": "https://localhost:8080/",
          "height": 833
        }
      },
      "source": [
        "all_df.groupby(['split','labels']).count()"
      ],
      "execution_count": 0,
      "outputs": [
        {
          "output_type": "execute_result",
          "data": {
            "text/html": [
              "<div>\n",
              "<style scoped>\n",
              "    .dataframe tbody tr th:only-of-type {\n",
              "        vertical-align: middle;\n",
              "    }\n",
              "\n",
              "    .dataframe tbody tr th {\n",
              "        vertical-align: top;\n",
              "    }\n",
              "\n",
              "    .dataframe thead th {\n",
              "        text-align: right;\n",
              "    }\n",
              "</style>\n",
              "<table border=\"1\" class=\"dataframe\">\n",
              "  <thead>\n",
              "    <tr style=\"text-align: right;\">\n",
              "      <th></th>\n",
              "      <th></th>\n",
              "      <th>inputs</th>\n",
              "    </tr>\n",
              "    <tr>\n",
              "      <th>split</th>\n",
              "      <th>labels</th>\n",
              "      <th></th>\n",
              "    </tr>\n",
              "  </thead>\n",
              "  <tbody>\n",
              "    <tr>\n",
              "      <th rowspan=\"12\" valign=\"top\">test</th>\n",
              "      <th>0L</th>\n",
              "      <td>300</td>\n",
              "    </tr>\n",
              "    <tr>\n",
              "      <th>0R</th>\n",
              "      <td>300</td>\n",
              "    </tr>\n",
              "    <tr>\n",
              "      <th>1L</th>\n",
              "      <td>300</td>\n",
              "    </tr>\n",
              "    <tr>\n",
              "      <th>1R</th>\n",
              "      <td>300</td>\n",
              "    </tr>\n",
              "    <tr>\n",
              "      <th>2L</th>\n",
              "      <td>300</td>\n",
              "    </tr>\n",
              "    <tr>\n",
              "      <th>2R</th>\n",
              "      <td>300</td>\n",
              "    </tr>\n",
              "    <tr>\n",
              "      <th>3L</th>\n",
              "      <td>300</td>\n",
              "    </tr>\n",
              "    <tr>\n",
              "      <th>3R</th>\n",
              "      <td>300</td>\n",
              "    </tr>\n",
              "    <tr>\n",
              "      <th>4L</th>\n",
              "      <td>300</td>\n",
              "    </tr>\n",
              "    <tr>\n",
              "      <th>4R</th>\n",
              "      <td>300</td>\n",
              "    </tr>\n",
              "    <tr>\n",
              "      <th>5L</th>\n",
              "      <td>300</td>\n",
              "    </tr>\n",
              "    <tr>\n",
              "      <th>5R</th>\n",
              "      <td>300</td>\n",
              "    </tr>\n",
              "    <tr>\n",
              "      <th rowspan=\"12\" valign=\"top\">train</th>\n",
              "      <th>0L</th>\n",
              "      <td>1500</td>\n",
              "    </tr>\n",
              "    <tr>\n",
              "      <th>0R</th>\n",
              "      <td>1500</td>\n",
              "    </tr>\n",
              "    <tr>\n",
              "      <th>1L</th>\n",
              "      <td>1500</td>\n",
              "    </tr>\n",
              "    <tr>\n",
              "      <th>1R</th>\n",
              "      <td>1500</td>\n",
              "    </tr>\n",
              "    <tr>\n",
              "      <th>2L</th>\n",
              "      <td>1500</td>\n",
              "    </tr>\n",
              "    <tr>\n",
              "      <th>2R</th>\n",
              "      <td>1500</td>\n",
              "    </tr>\n",
              "    <tr>\n",
              "      <th>3L</th>\n",
              "      <td>1500</td>\n",
              "    </tr>\n",
              "    <tr>\n",
              "      <th>3R</th>\n",
              "      <td>1500</td>\n",
              "    </tr>\n",
              "    <tr>\n",
              "      <th>4L</th>\n",
              "      <td>1500</td>\n",
              "    </tr>\n",
              "    <tr>\n",
              "      <th>4R</th>\n",
              "      <td>1500</td>\n",
              "    </tr>\n",
              "    <tr>\n",
              "      <th>5L</th>\n",
              "      <td>1500</td>\n",
              "    </tr>\n",
              "    <tr>\n",
              "      <th>5R</th>\n",
              "      <td>1500</td>\n",
              "    </tr>\n",
              "  </tbody>\n",
              "</table>\n",
              "</div>"
            ],
            "text/plain": [
              "              inputs\n",
              "split labels        \n",
              "test  0L         300\n",
              "      0R         300\n",
              "      1L         300\n",
              "      1R         300\n",
              "      2L         300\n",
              "      2R         300\n",
              "      3L         300\n",
              "      3R         300\n",
              "      4L         300\n",
              "      4R         300\n",
              "      5L         300\n",
              "      5R         300\n",
              "train 0L        1500\n",
              "      0R        1500\n",
              "      1L        1500\n",
              "      1R        1500\n",
              "      2L        1500\n",
              "      2R        1500\n",
              "      3L        1500\n",
              "      3R        1500\n",
              "      4L        1500\n",
              "      4R        1500\n",
              "      5L        1500\n",
              "      5R        1500"
            ]
          },
          "metadata": {
            "tags": []
          },
          "execution_count": 43
        }
      ]
    },
    {
      "cell_type": "markdown",
      "metadata": {
        "id": "6erQZ76DQ9uK",
        "colab_type": "text"
      },
      "source": [
        "## Build Dataloaders"
      ]
    },
    {
      "cell_type": "code",
      "metadata": {
        "id": "2QHt9A-XWB6X",
        "colab_type": "code",
        "colab": {}
      },
      "source": [
        "# create new dblock with aug transforms\n",
        "fing_dblock2 = fing_dblock.new(batch_tfms=aug_transforms(do_flip=False))"
      ],
      "execution_count": 0,
      "outputs": []
    },
    {
      "cell_type": "code",
      "metadata": {
        "id": "0I-zqipXWpr5",
        "colab_type": "code",
        "colab": {}
      },
      "source": [
        "fing_dls = fing_dblock2.dataloaders(path)"
      ],
      "execution_count": 0,
      "outputs": []
    },
    {
      "cell_type": "code",
      "metadata": {
        "id": "HpP3QswSasZs",
        "colab_type": "code",
        "outputId": "e780c399-f8bc-4dd7-9848-d31907943130",
        "colab": {
          "base_uri": "https://localhost:8080/",
          "height": 536
        }
      },
      "source": [
        "fing_dls.show_batch(max_n=12, nrows=3)"
      ],
      "execution_count": 0,
      "outputs": [
        {
          "output_type": "display_data",
          "data": {
            "image/png": "[encoded data removed]",
            "text/plain": [
              "<Figure size 864x648 with 12 Axes>"
            ]
          },
          "metadata": {
            "tags": []
          }
        }
      ]
    },
    {
      "cell_type": "markdown",
      "metadata": {
        "id": "ETJ2G9T4W8Er",
        "colab_type": "text"
      },
      "source": [
        "## Build Model"
      ]
    },
    {
      "cell_type": "code",
      "metadata": {
        "id": "j94h7troXDaw",
        "colab_type": "code",
        "outputId": "23d5bfc7-c886-4036-c1a7-d71970453748",
        "colab": {
          "base_uri": "https://localhost:8080/",
          "height": 104,
          "referenced_widgets": [
            "e58e3ca8b6cb4f49bb89def810cdb674",
            "664500c47c0b4545ac0b51bc69abde49",
            "b31681d8e2ac4c29ac6453f78b952588",
            "1aa5d0dafe0a47bf8e6252cef4497a7d",
            "6fff38807e4842cabe71337b39b1faca",
            "7f7ae758bcfa4268a96af4a58af52388",
            "f3049966e26d4dd489bda56910b88f18",
            "3912ce2702e44d9fa62e75a9cdb1a23a"
          ]
        }
      },
      "source": [
        "learn = cnn_learner(fing_dls, resnet34, metrics=error_rate)"
      ],
      "execution_count": 0,
      "outputs": [
        {
          "output_type": "stream",
          "text": [
            "Downloading: \"https://download.pytorch.org/models/resnet34-333f7ec4.pth\" to /root/.cache/torch/checkpoints/resnet34-333f7ec4.pth\n"
          ],
          "name": "stderr"
        },
        {
          "output_type": "display_data",
          "data": {
            "application/vnd.jupyter.widget-view+json": {
              "model_id": "e58e3ca8b6cb4f49bb89def810cdb674",
              "version_minor": 0,
              "version_major": 2
            },
            "text/plain": [
              "HBox(children=(IntProgress(value=0, max=87306240), HTML(value='')))"
            ]
          },
          "metadata": {
            "tags": []
          }
        },
        {
          "output_type": "stream",
          "text": [
            "\n"
          ],
          "name": "stdout"
        }
      ]
    },
    {
      "cell_type": "code",
      "metadata": {
        "id": "P-KlM-P1XfgN",
        "colab_type": "code",
        "outputId": "a313a52c-4e17-40f2-cd50-5d12387b0045",
        "colab": {
          "base_uri": "https://localhost:8080/",
          "height": 238
        }
      },
      "source": [
        "learn.fine_tune(4)"
      ],
      "execution_count": 0,
      "outputs": [
        {
          "output_type": "display_data",
          "data": {
            "text/html": [
              "<table border=\"1\" class=\"dataframe\">\n",
              "  <thead>\n",
              "    <tr style=\"text-align: left;\">\n",
              "      <th>epoch</th>\n",
              "      <th>train_loss</th>\n",
              "      <th>valid_loss</th>\n",
              "      <th>error_rate</th>\n",
              "      <th>time</th>\n",
              "    </tr>\n",
              "  </thead>\n",
              "  <tbody>\n",
              "    <tr>\n",
              "      <td>0</td>\n",
              "      <td>0.364161</td>\n",
              "      <td>0.161883</td>\n",
              "      <td>0.054722</td>\n",
              "      <td>01:03</td>\n",
              "    </tr>\n",
              "  </tbody>\n",
              "</table>"
            ],
            "text/plain": [
              "<IPython.core.display.HTML object>"
            ]
          },
          "metadata": {
            "tags": []
          }
        },
        {
          "output_type": "display_data",
          "data": {
            "text/html": [
              "<table border=\"1\" class=\"dataframe\">\n",
              "  <thead>\n",
              "    <tr style=\"text-align: left;\">\n",
              "      <th>epoch</th>\n",
              "      <th>train_loss</th>\n",
              "      <th>valid_loss</th>\n",
              "      <th>error_rate</th>\n",
              "      <th>time</th>\n",
              "    </tr>\n",
              "  </thead>\n",
              "  <tbody>\n",
              "    <tr>\n",
              "      <td>0</td>\n",
              "      <td>0.050182</td>\n",
              "      <td>0.001905</td>\n",
              "      <td>0.000278</td>\n",
              "      <td>01:24</td>\n",
              "    </tr>\n",
              "    <tr>\n",
              "      <td>1</td>\n",
              "      <td>0.013748</td>\n",
              "      <td>0.000052</td>\n",
              "      <td>0.000000</td>\n",
              "      <td>01:23</td>\n",
              "    </tr>\n",
              "    <tr>\n",
              "      <td>2</td>\n",
              "      <td>0.001699</td>\n",
              "      <td>0.000078</td>\n",
              "      <td>0.000000</td>\n",
              "      <td>01:23</td>\n",
              "    </tr>\n",
              "    <tr>\n",
              "      <td>3</td>\n",
              "      <td>0.000693</td>\n",
              "      <td>0.000005</td>\n",
              "      <td>0.000000</td>\n",
              "      <td>01:23</td>\n",
              "    </tr>\n",
              "  </tbody>\n",
              "</table>"
            ],
            "text/plain": [
              "<IPython.core.display.HTML object>"
            ]
          },
          "metadata": {
            "tags": []
          }
        }
      ]
    },
    {
      "cell_type": "code",
      "metadata": {
        "id": "AwUzKDCgXk77",
        "colab_type": "code",
        "outputId": "35dd5b96-8626-41b5-f95e-842d5d19da84",
        "colab": {
          "base_uri": "https://localhost:8080/",
          "height": 265
        }
      },
      "source": [
        "learn.recorder.plot_loss()"
      ],
      "execution_count": 0,
      "outputs": [
        {
          "output_type": "display_data",
          "data": {
            "image/png": "[encoded data removed]",
            "text/plain": [
              "<Figure size 432x288 with 1 Axes>"
            ]
          },
          "metadata": {
            "tags": []
          }
        }
      ]
    },
    {
      "cell_type": "code",
      "metadata": {
        "id": "jAKqjI4XZltn",
        "colab_type": "code",
        "colab": {}
      },
      "source": [
        "learn.export()"
      ],
      "execution_count": 0,
      "outputs": []
    },
    {
      "cell_type": "code",
      "metadata": {
        "id": "ck_7ZSkOZtMC",
        "colab_type": "code",
        "colab": {}
      },
      "source": [
        "learn.save('stage-1')"
      ],
      "execution_count": 0,
      "outputs": []
    },
    {
      "cell_type": "markdown",
      "metadata": {
        "id": "ukqzQm7sITHL",
        "colab_type": "text"
      },
      "source": [
        "### Save Model and Clean Data to GDrive"
      ]
    },
    {
      "cell_type": "code",
      "metadata": {
        "id": "pTFKpCCZZySa",
        "colab_type": "code",
        "colab": {}
      },
      "source": [
        "!mkdir -p {escdrive(gdrive/'models'/'koryakinp_fingers')}"
      ],
      "execution_count": 0,
      "outputs": []
    },
    {
      "cell_type": "code",
      "metadata": {
        "id": "7FglB-YsaIN3",
        "colab_type": "code",
        "colab": {}
      },
      "source": [
        "!cp models/stage-1.pth {escdrive(gdrive/'models'/'koryakinp_fingers')}\n",
        "!cp export.pkl {escdrive(gdrive/'models'/'koryakinp_fingers')}"
      ],
      "execution_count": 0,
      "outputs": []
    },
    {
      "cell_type": "code",
      "metadata": {
        "id": "YgYwHMy4dHN8",
        "colab_type": "code",
        "outputId": "6a354b12-8012-4a34-a0ae-8cd09cc5b789",
        "colab": {
          "base_uri": "https://localhost:8080/",
          "height": 69
        }
      },
      "source": [
        "dataset ='koryakinp_fingers'\n",
        "(dataset, data_path,path)"
      ],
      "execution_count": 0,
      "outputs": [
        {
          "output_type": "execute_result",
          "data": {
            "text/plain": [
              "('koryakinp_fingers',\n",
              " '/root/.fastai/data',\n",
              " Path('/root/.fastai/data/koryakinp_fingers'))"
            ]
          },
          "metadata": {
            "tags": []
          },
          "execution_count": 56
        }
      ]
    },
    {
      "cell_type": "code",
      "metadata": {
        "id": "22Ntof8bLE7h",
        "colab_type": "code",
        "outputId": "64fe3b55-7b37-43e5-e6eb-d5e8461a1f8f",
        "colab": {
          "base_uri": "https://localhost:8080/",
          "height": 34
        }
      },
      "source": [
        "!tar -czf {(Path(data_path)/(dataset + '.tgz')).as_posix()}  -C {Path(data_path).as_posix()} {path.as_posix()}  "
      ],
      "execution_count": 0,
      "outputs": [
        {
          "output_type": "stream",
          "text": [
            "tar: Removing leading `/' from member names\n"
          ],
          "name": "stdout"
        }
      ]
    },
    {
      "cell_type": "code",
      "metadata": {
        "id": "0OngOzLzd2NL",
        "colab_type": "code",
        "colab": {}
      },
      "source": [
        "!cp data/koryakinp_fingers.tgz {escdrive(gdrive/'data')}"
      ],
      "execution_count": 0,
      "outputs": []
    }
  ]
}